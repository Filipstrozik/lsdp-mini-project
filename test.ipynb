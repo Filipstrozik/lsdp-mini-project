{
 "cells": [
  {
   "cell_type": "code",
   "execution_count": 9,
   "id": "a74bc9e8",
   "metadata": {},
   "outputs": [],
   "source": [
    "from transformers import AutoTokenizer, AutoModel\n",
    "import torch\n",
    "\n",
    "tokenizer = AutoTokenizer.from_pretrained(\"allegro/herbert-klej-cased-tokenizer-v1\")\n",
    "model = AutoModel.from_pretrained(\"allegro/herbert-klej-cased-v1\")\n",
    "\n",
    "text = \"\"\"\n",
    "\n",
    "Fizyka 1 - ćwiczenia \n",
    " \n",
    "\n",
    " \n",
    " Gorąco polecam \n",
    " \n",
    "\n",
    " \n",
    "Od czego by zacząć... Zajęcia gorąco polecam. Świetna prowadząca. Miła, śmieszna, pozytywnie nastawiona, rozumie studenta.  Wiele ćwiczeń minęło w atmosferze ogólnego śmiechu i żartów. Na zajęciach wyciąga do tablicy, ale nie po to żeby ośmieszać studentów czy pokazywać, że nic nie umieją, lecz po to aby czegoś się nauczyli i ewentualnie się ogarnęli. Po prostu nie ma siedzenia bezczynnie przez 1,5 h. Wstawia \" + \" i \" - \" ale nie jest to jakaś tragedia  na końcu semestru jak ma się minusa czy dwa. Na zajęcia trzeba być po prostu mniej więcej przygotowanym, żeby wiedzieć co się dzieje i nie liczyć w zadaniach z kinematyki ciepła właściwego lub jeszcze czegoś innego. Należy się też zachowywać, ale to chyba jak w stosunku do każdego. Jeśli jest się w porządku w stosunku do niej, odwdzięcza się tym samym. Co do kolokwiów to też w porządku. Nie trzeba naprawdę być wykutym jak do doktoratu. Jeśli w miarę sumiennie się pracuje i wie co się działo na ćwiczeniach, nie ma problemu z zaliczeniem. Chyba najlepsze zajęcia, które miałem w ciągu pierwszego semestru. POLECAM\n",
    "\n",
    "\"\"\"\n",
    "\n",
    "\n",
    "# Tokenize the review text\n",
    "tokens = tokenizer(\n",
    "    text,\n",
    "    return_tensors=\"pt\",\n",
    "    truncation=True,\n",
    "    padding=True,\n",
    "    max_length=512,\n",
    ")\n",
    "\n",
    "# Generate vector embeddings using HerBERT\n",
    "with torch.no_grad():\n",
    "    outputs = model(**tokens)\n",
    "    # Use the [CLS] token representation as the vector\n",
    "    vector = outputs.last_hidden_state[:, 0, :].squeeze().tolist()\n",
    "# Print the vector"
   ]
  },
  {
   "cell_type": "code",
   "execution_count": null,
   "id": "36e430a0",
   "metadata": {},
   "outputs": [
    {
     "data": {
      "text/plain": [
       "768"
      ]
     },
     "execution_count": 12,
     "metadata": {},
     "output_type": "execute_result"
    }
   ],
   "source": []
  },
  {
   "cell_type": "code",
   "execution_count": null,
   "id": "e12cc620",
   "metadata": {},
   "outputs": [],
   "source": []
  }
 ],
 "metadata": {
  "kernelspec": {
   "display_name": ".venv",
   "language": "python",
   "name": "python3"
  },
  "language_info": {
   "codemirror_mode": {
    "name": "ipython",
    "version": 3
   },
   "file_extension": ".py",
   "mimetype": "text/x-python",
   "name": "python",
   "nbconvert_exporter": "python",
   "pygments_lexer": "ipython3",
   "version": "3.12.4"
  }
 },
 "nbformat": 4,
 "nbformat_minor": 5
}
