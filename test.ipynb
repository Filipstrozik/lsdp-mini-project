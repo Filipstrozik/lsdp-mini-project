{
 "cells": [
  {
   "cell_type": "code",
   "execution_count": 1,
   "id": "36e430a0",
   "metadata": {},
   "outputs": [],
   "source": [
    "import pyspark\n",
    "from pyspark.sql import SparkSession\n",
    "from pyspark.ml.feature import VectorAssembler, StringIndexer\n",
    "from pyspark.ml.classification import LogisticRegression\n",
    "from pyspark.ml.evaluation import MulticlassClassificationEvaluator\n",
    "from pyspark.ml import Pipeline\n",
    "from pyspark.ml.tuning import ParamGridBuilder, TrainValidationSplit\n",
    "from pyspark.sql.functions import col\n",
    "import os\n",
    "from pyspark.sql.functions import array_join, col\n",
    "\n",
    "def create_spark_session():\n",
    "    spark_master_url = os.getenv(\"SPARK_MASTER_URL\", \"spark://localhost:7077\")\n",
    "    return (\n",
    "        SparkSession.builder.appName(\"ReviewClassification\")\n",
    "        .config(\"spark.master\", \"local[1]\")\n",
    "        .getOrCreate()\n",
    "    )"
   ]
  },
  {
   "cell_type": "code",
   "execution_count": 2,
   "id": "67b6959b",
   "metadata": {},
   "outputs": [
    {
     "name": "stderr",
     "output_type": "stream",
     "text": [
      "Setting default log level to \"WARN\".\n",
      "To adjust logging level use sc.setLogLevel(newLevel). For SparkR, use setLogLevel(newLevel).\n",
      "25/04/26 17:48:45 WARN NativeCodeLoader: Unable to load native-hadoop library for your platform... using builtin-java classes where applicable\n"
     ]
    }
   ],
   "source": [
    "def load_data_from_csv(spark, file_path):\n",
    "    return spark.read.csv(file_path, header=True, inferSchema=True)\n",
    "\n",
    "df = load_data_from_csv(create_spark_session(), \"spark/data/vectorized_reviews.csv\")"
   ]
  },
  {
   "cell_type": "code",
   "execution_count": 3,
   "id": "21e13bad",
   "metadata": {},
   "outputs": [
    {
     "data": {
      "text/plain": [
       "DataFrame[_id: string, username: string, faculty: string, year: string, opinion_weight: string, date: string, professor: string, rating: string, vote_rate: string, course: string, review: string, post_url: string, language: string, vectors: string]"
      ]
     },
     "execution_count": 3,
     "metadata": {},
     "output_type": "execute_result"
    }
   ],
   "source": [
    "df"
   ]
  },
  {
   "cell_type": "code",
   "execution_count": 4,
   "id": "427380f4",
   "metadata": {},
   "outputs": [
    {
     "name": "stdout",
     "output_type": "stream",
     "text": [
      "+--------------------+--------------------+--------------------+--------------------+--------------+----------+------------------+------+---------+------+-------+--------+--------+-------+\n",
      "|                 _id|            username|             faculty|                year|opinion_weight|      date|         professor|rating|vote_rate|course| review|post_url|language|vectors|\n",
      "+--------------------+--------------------+--------------------+--------------------+--------------+----------+------------------+------+---------+------+-------+--------+--------+-------+\n",
      "|680aab9873fce4fd2...|           Anonymous|                NULL|                NULL|             2|2013-11-24|Elżbieta Marszałek|     5|        0|  NULL|Funky  |    NULL|    NULL|   NULL|\n",
      "|                 OK |                NULL|                NULL|                NULL|          NULL|      NULL|              NULL|  NULL|     NULL|  NULL|   NULL|    NULL|    NULL|   NULL|\n",
      "|Prowadząca jest m...| zajęcia bezprobl...| nieobecności zaw...|                NULL|          NULL|      NULL|              NULL|  NULL|     NULL|  NULL|   NULL|    NULL|    NULL|   NULL|\n",
      "|Układ nie jest wy...| prosty i dostoso...|                NULL|                NULL|          NULL|      NULL|              NULL|  NULL|     NULL|  NULL|   NULL|    NULL|    NULL|   NULL|\n",
      "|           POLECAM!\"|https://polwro.co...|                  pl|[0.27727276086807...|          NULL|      NULL|              NULL|  NULL|     NULL|  NULL|   NULL|    NULL|    NULL|   NULL|\n",
      "+--------------------+--------------------+--------------------+--------------------+--------------+----------+------------------+------+---------+------+-------+--------+--------+-------+\n",
      "only showing top 5 rows\n",
      "\n"
     ]
    }
   ],
   "source": [
    "df.show(5)"
   ]
  }
 ],
 "metadata": {
  "kernelspec": {
   "display_name": ".venv",
   "language": "python",
   "name": "python3"
  },
  "language_info": {
   "codemirror_mode": {
    "name": "ipython",
    "version": 3
   },
   "file_extension": ".py",
   "mimetype": "text/x-python",
   "name": "python",
   "nbconvert_exporter": "python",
   "pygments_lexer": "ipython3",
   "version": "3.12.4"
  }
 },
 "nbformat": 4,
 "nbformat_minor": 5
}
